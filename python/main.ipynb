{
 "cells": [
  {
   "cell_type": "code",
   "execution_count": 122,
   "metadata": {},
   "outputs": [],
   "source": [
    "import numpy as np\n"
   ]
  },
  {
   "cell_type": "code",
   "execution_count": 123,
   "metadata": {},
   "outputs": [],
   "source": [
    "f       = lambda x : x[0][0]**2 + x[1][0]**2 + x[0][0]*x[1][0] - 6*x[0][0] - 4*x[1][0] + 12\n",
    "f_1     = lambda x : 2*x[0][0] + x[1][0] - 6\n",
    "f_2     = lambda x : 2*x[1][0] + x[0][0] - 4\n",
    "grad_f  = lambda x : np.array([[f_1(x)], [f_2(x)]])\n",
    "\n",
    "f_11 = lambda x : 2\n",
    "f_12 = lambda x : 1\n",
    "f_21 = lambda x : 1\n",
    "f_22 = lambda x : 2\n",
    "\n",
    "hess_f  = lambda x : np.array([\n",
    "  [f_11(x), f_12(x)],\n",
    "  [f_21(x), f_22(x)]\n",
    "])"
   ]
  },
  {
   "attachments": {},
   "cell_type": "markdown",
   "metadata": {},
   "source": [
    "Note the Hessian is $$\\begin{bmatrix} 2 & 1 \\\\ 1 & 2 \\end{bmatrix}$$ which is constant, non-singular and positive definite (eignevalues are $1$ and $3$), so we may use it for Newton's optimization later."
   ]
  },
  {
   "attachments": {},
   "cell_type": "markdown",
   "metadata": {},
   "source": [
    "LINE SEARCH PARAMS"
   ]
  },
  {
   "cell_type": "code",
   "execution_count": 124,
   "metadata": {},
   "outputs": [],
   "source": [
    "c       = 0.3\n",
    "rho     = 0.9\n",
    "epsilon = 0.0001"
   ]
  },
  {
   "cell_type": "code",
   "execution_count": 125,
   "metadata": {},
   "outputs": [],
   "source": [
    "def backtrack_line_search(x_k):\n",
    "  p_k = - np.linalg.inv(hess_f(x_k)) @ grad_f(x_k) # Newton\n",
    "  alpha = 1\n",
    "  while f(x_k + alpha * p_k) > f(x_k) + c * alpha * grad_f(x_k).T @ p_k: #Armijo == FALSE\n",
    "    alpha *= rho;\n",
    "    \n",
    "  #Armijo == True\n",
    "  return x_k + alpha * p_k\n",
    "\n",
    "\n",
    "def find_min():\n",
    "  X = [np.array([[0], [0]])]\n",
    "  X.append(backtrack_line_search(X[0]))\n",
    "  while np.linalg.norm(X[-1] - X[-2]) > epsilon:\n",
    "    x_k = X[-1]\n",
    "    y = backtrack_line_search(x_k)\n",
    "    X.append(y)\n",
    "  return X\n",
    "  "
   ]
  },
  {
   "cell_type": "code",
   "execution_count": 126,
   "metadata": {},
   "outputs": [
    {
     "name": "stdout",
     "output_type": "stream",
     "text": [
      "f obtains its minimum 2.6666666666666696 at at [[2.66666667]\n",
      " [0.66666667]]\n"
     ]
    }
   ],
   "source": [
    "m = find_min()[-1]\n",
    "print(f\"f obtains its minimum {f(m)} at at {m}\")"
   ]
  }
 ],
 "metadata": {
  "kernelspec": {
   "display_name": "ml",
   "language": "python",
   "name": "python3"
  },
  "language_info": {
   "codemirror_mode": {
    "name": "ipython",
    "version": 3
   },
   "file_extension": ".py",
   "mimetype": "text/x-python",
   "name": "python",
   "nbconvert_exporter": "python",
   "pygments_lexer": "ipython3",
   "version": "3.9.16"
  },
  "orig_nbformat": 4
 },
 "nbformat": 4,
 "nbformat_minor": 2
}
